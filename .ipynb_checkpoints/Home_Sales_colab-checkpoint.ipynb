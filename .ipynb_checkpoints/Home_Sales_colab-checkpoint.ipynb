{
 "cells": [
  {
   "cell_type": "code",
   "execution_count": 50,
   "metadata": {
    "id": "ZZoWIf_e7hEU"
   },
   "outputs": [],
   "source": [
    "# !pip install pyspark"
   ]
  },
  {
   "cell_type": "code",
   "execution_count": 51,
   "metadata": {
    "id": "2XbWNf1Te5fM"
   },
   "outputs": [],
   "source": [
    "# Import packages\n",
    "from pyspark.sql import SparkSession\n",
    "from pyspark import SparkFiles\n",
    "\n",
    "import time\n",
    "\n",
    "# Create a SparkSession\n",
    "spark = SparkSession.builder.appName(\"SparkSQL\").getOrCreate()"
   ]
  },
  {
   "cell_type": "code",
   "execution_count": 52,
   "metadata": {
    "colab": {
     "base_uri": "https://localhost:8080/"
    },
    "id": "wOJqxG_RPSwp",
    "outputId": "463b5a57-37cf-47b9-9fd8-6043b7827b40"
   },
   "outputs": [
    {
     "name": "stdout",
     "output_type": "stream",
     "text": [
      "+--------------------+----------+----------+------+--------+---------+-----------+--------+------+----------+----+\n",
      "|                  id|      date|date_built| price|bedrooms|bathrooms|sqft_living|sqft_lot|floors|waterfront|view|\n",
      "+--------------------+----------+----------+------+--------+---------+-----------+--------+------+----------+----+\n",
      "|f8a53099-ba1c-47d...|2022-04-08|      2016|936923|       4|        3|       3167|   11733|     2|         1|  76|\n",
      "|7530a2d8-1ae3-451...|2021-06-13|      2013|379628|       2|        2|       2235|   14384|     1|         0|  23|\n",
      "|43de979c-0bf0-4c9...|2019-04-12|      2014|417866|       2|        2|       2127|   10575|     2|         0|   0|\n",
      "|b672c137-b88c-48b...|2019-10-16|      2016|239895|       2|        2|       1631|   11149|     2|         0|   0|\n",
      "|e0726d4d-d595-407...|2022-01-08|      2017|424418|       3|        2|       2249|   13878|     2|         0|   4|\n",
      "|5aa00529-0533-46b...|2019-01-30|      2017|218712|       2|        3|       1965|   14375|     2|         0|   7|\n",
      "|131492a1-72e2-4a8...|2020-02-08|      2017|419199|       2|        3|       2062|    8876|     2|         0|   6|\n",
      "|8d54a71b-c520-44e...|2019-07-21|      2010|323956|       2|        3|       1506|   11816|     1|         0|  25|\n",
      "|e81aacfe-17fe-46b...|2020-06-16|      2016|181925|       3|        3|       2137|   11709|     2|         0|  22|\n",
      "|2ed8d509-7372-46d...|2021-08-06|      2015|258710|       3|        3|       1918|    9666|     1|         0|  25|\n",
      "|f876d86f-3c9f-42b...|2019-02-27|      2011|167864|       3|        3|       2471|   13924|     2|         0|  15|\n",
      "|0a2bd445-8508-4d8...|2021-12-30|      2014|337527|       2|        3|       1926|   12556|     1|         0|  23|\n",
      "|941bad30-eb49-4a7...|2020-05-09|      2015|229896|       3|        3|       2197|    8641|     1|         0|   3|\n",
      "|dd61eb34-6589-4c0...|2021-07-25|      2016|210247|       3|        2|       1672|   11986|     2|         0|  28|\n",
      "|f1e4cef7-d151-439...|2019-02-01|      2011|398667|       2|        3|       2331|   11356|     1|         0|   7|\n",
      "|ea620c7b-c2f7-4c6...|2021-05-31|      2011|437958|       3|        3|       2356|   11052|     1|         0|  26|\n",
      "|f233cb41-6f33-4b0...|2021-07-18|      2016|437375|       4|        3|       1704|   11721|     2|         0|  34|\n",
      "|c797ca12-52cd-4b1...|2019-06-08|      2015|288650|       2|        3|       2100|   10419|     2|         0|   7|\n",
      "|0cfe57f3-28c2-472...|2019-10-04|      2015|308313|       3|        3|       1960|    9453|     2|         0|   2|\n",
      "|4566cd2a-ac6e-435...|2019-07-15|      2016|177541|       3|        3|       2130|   10517|     2|         0|  25|\n",
      "+--------------------+----------+----------+------+--------+---------+-----------+--------+------+----------+----+\n",
      "only showing top 20 rows\n",
      "\n"
     ]
    }
   ],
   "source": [
    "# 1. Read in the AWS S3 bucket into a DataFrame.\n",
    "url = \"https://2u-data-curriculum-team.s3.amazonaws.com/dataviz-classroom/v1.2/22-big-data/home_sales_revised.csv\"\n",
    "spark.sparkContext.addFile(url)\n",
    "home_sales_df = spark.read.csv(SparkFiles.get(\"home_sales_revised.csv\"), sep=\",\", header=True)\n",
    "\n",
    "# Show DataFrame\n",
    "home_sales_df.show()"
   ]
  },
  {
   "cell_type": "code",
   "execution_count": 53,
   "metadata": {
    "id": "RoljcJ7WPpnm"
   },
   "outputs": [],
   "source": [
    "# 2. Create a temporary view of the DataFrame.\n",
    "home_sales_df.createOrReplaceTempView('sales')"
   ]
  },
  {
   "cell_type": "code",
   "execution_count": 54,
   "metadata": {
    "colab": {
     "base_uri": "https://localhost:8080/"
    },
    "id": "L6fkwOeOmqvq",
    "outputId": "3d753088-f5e8-417e-c5c3-f5ad8d202fe7"
   },
   "outputs": [
    {
     "name": "stdout",
     "output_type": "stream",
     "text": [
      "The average price of a home with 4 bedrooms, per year it was sold, is the following:\n",
      "+----+-------------+\n",
      "|Year|Average_Price|\n",
      "+----+-------------+\n",
      "|2022|    296363.88|\n",
      "|2021|    301819.44|\n",
      "|2020|    298353.78|\n",
      "|2019|     300263.7|\n",
      "+----+-------------+\n",
      "\n"
     ]
    }
   ],
   "source": [
    "# 3. What is the average price for a four bedroom house sold in each year rounded to two decimal places?\n",
    "print('The average price of a home with 4 bedrooms, per year it was sold, is the following:')\n",
    "query=\"Select Year(date) as Year, Round(AVG(price),2) as Average_Price from sales where bedrooms=4 group by Year order by Year desc\"\n",
    "spark.sql(query).show()\n"
   ]
  },
  {
   "cell_type": "code",
   "execution_count": 55,
   "metadata": {
    "colab": {
     "base_uri": "https://localhost:8080/"
    },
    "id": "l8p_tUS8h8it",
    "outputId": "027395b0-03f5-4812-c7f0-79a1b8d2492c"
   },
   "outputs": [
    {
     "name": "stdout",
     "output_type": "stream",
     "text": [
      "The average price of a home, for each year built, with: \n",
      " - 3 bedrooms, \n",
      " - 3 bathrooms\n",
      " is the following:\n",
      "+----------+-------------+\n",
      "|Year_Built|Average_Price|\n",
      "+----------+-------------+\n",
      "|      2017|    292676.79|\n",
      "|      2016|    290555.07|\n",
      "|      2015|     288770.3|\n",
      "|      2014|    290852.27|\n",
      "|      2013|    295962.27|\n",
      "|      2012|    293683.19|\n",
      "|      2011|    291117.47|\n",
      "|      2010|    292859.62|\n",
      "+----------+-------------+\n",
      "\n"
     ]
    }
   ],
   "source": [
    "# 4. What is the average price of a home for each year the home was built that have 3 bedrooms and 3 bathrooms rounded to two decimal places?\n",
    "print('''The average price of a home, for each year built, with:\n",
    " - 3 bedrooms,\n",
    " - 3 bathrooms\n",
    " is the following:''')\n",
    "query=\"Select date_built as Year_Built, Round(AVG(price),2) as Average_Price from sales where bedrooms=3 and bathrooms=3 group by Year_Built order by Year_Built desc\"\n",
    "spark.sql(query).show()\n"
   ]
  },
  {
   "cell_type": "code",
   "execution_count": 56,
   "metadata": {
    "colab": {
     "base_uri": "https://localhost:8080/"
    },
    "id": "Y-Eytz64liDU",
    "outputId": "9ab0bc04-da85-4c3b-85e5-a9d1cd0897b9"
   },
   "outputs": [
    {
     "name": "stdout",
     "output_type": "stream",
     "text": [
      "The average price, for each year built, of a home with: \n",
      " - 3 bedrooms, \n",
      " - 3 bathrooms, \n",
      " - 2 floors, \n",
      " - more than 2,000 square feet\n",
      " is the following:\n",
      "+----------+-------------+\n",
      "|Year_Built|Average_Price|\n",
      "+----------+-------------+\n",
      "|      2010|    285010.22|\n",
      "|      2011|    276553.81|\n",
      "|      2012|    307539.97|\n",
      "|      2013|    303676.79|\n",
      "|      2014|    298264.72|\n",
      "|      2015|    297609.97|\n",
      "|      2016|     293965.1|\n",
      "|      2017|    280317.58|\n",
      "+----------+-------------+\n",
      "\n"
     ]
    }
   ],
   "source": [
    "# 5. What is the average price of a home for each year built that have 3 bedrooms, 3 bathrooms, with two floors,\n",
    "# and are greater than or equal to 2,000 square feet rounded to two decimal places?\n",
    "print('''The average price, for each year built, of a home with:\n",
    " - 3 bedrooms,\n",
    " - 3 bathrooms,\n",
    " - 2 floors,\n",
    " - more than 2,000 square feet\n",
    " is the following:''')\n",
    "query=\"\"\"Select date_built as Year_Built, Round(AVG(price),2) as Average_Price\n",
    "from sales\n",
    "where bedrooms=3 and bathrooms=3 and floors=2 and sqft_living>=2000\n",
    "group by Year_Built order by Year_Built\"\"\"\n",
    "spark.sql(query).show()\n"
   ]
  },
  {
   "cell_type": "code",
   "execution_count": 57,
   "metadata": {
    "colab": {
     "base_uri": "https://localhost:8080/"
    },
    "id": "hvAFkXX4rxCV",
    "outputId": "ffd22f48-720b-4686-fbb6-0d13e6a6b352"
   },
   "outputs": [
    {
     "name": "stdout",
     "output_type": "stream",
     "text": [
      "The distribution of 'view' counts with average price of a home >= $350,000 is the following:\n",
      "+----+-------------+\n",
      "|view|Average_Price|\n",
      "+----+-------------+\n",
      "|  99|   1061201.42|\n",
      "|  98|   1053739.33|\n",
      "|  97|   1129040.15|\n",
      "|  96|   1017815.92|\n",
      "|  95|    1054325.6|\n",
      "|  94|    1033536.2|\n",
      "|  93|   1026006.06|\n",
      "|  92|    970402.55|\n",
      "|  91|   1137372.73|\n",
      "|  90|   1062654.16|\n",
      "|  89|   1107839.15|\n",
      "|  88|   1031719.35|\n",
      "|  87|    1072285.2|\n",
      "|  86|   1070444.25|\n",
      "|  85|   1056336.74|\n",
      "|  84|   1117233.13|\n",
      "|  83|   1033965.93|\n",
      "|  82|    1063498.0|\n",
      "|  81|   1053472.79|\n",
      "|  80|    991767.38|\n",
      "+----+-------------+\n",
      "only showing top 20 rows\n",
      "\n",
      "--- 0.7172009944915771 seconds ---\n"
     ]
    }
   ],
   "source": [
    "# 6. What is the \"view\" rating for the average price of a home, rounded to two decimal places, where the homes are greater than\n",
    "# or equal to $350,000? Although this is a small dataset, determine the run time for this query.\n",
    "print(\"The distribution of 'view' counts with average price of a home >= $350,000 is the following:\")\n",
    "query=\"\"\"Select view, Round(AVG(price),2) as Average_Price\n",
    "from sales\n",
    "Group by view\n",
    "having AVG(price)>=350000\n",
    "order by view desc \"\"\"\n",
    "\n",
    "start_time = time.time()\n",
    "spark.sql(query).show()\n",
    "end_time=time.time()\n",
    "reg_temp_table_run_duration=end_time-start_time\n",
    "\n",
    "print(\"--- %s seconds ---\" % (reg_temp_table_run_duration))"
   ]
  },
  {
   "cell_type": "code",
   "execution_count": 58,
   "metadata": {
    "colab": {
     "base_uri": "https://localhost:8080/"
    },
    "id": "KAhk3ZD2tFy8",
    "outputId": "bba0f2e9-69c6-4e59-f548-0e3c6c5075e0"
   },
   "outputs": [
    {
     "data": {
      "text/plain": [
       "DataFrame[]"
      ]
     },
     "execution_count": 58,
     "metadata": {},
     "output_type": "execute_result"
    }
   ],
   "source": [
    "# 7. Cache the the temporary table home_sales.\n",
    "spark.sql(\"cache table sales\")\n"
   ]
  },
  {
   "cell_type": "code",
   "execution_count": 59,
   "metadata": {
    "colab": {
     "base_uri": "https://localhost:8080/"
    },
    "id": "4opVhbvxtL-i",
    "outputId": "6737170a-3e21-495b-8f1b-b7efb7acc558"
   },
   "outputs": [
    {
     "data": {
      "text/plain": [
       "True"
      ]
     },
     "execution_count": 59,
     "metadata": {},
     "output_type": "execute_result"
    }
   ],
   "source": [
    "# 8. Check if the table is cached.\n",
    "spark.catalog.isCached('sales')"
   ]
  },
  {
   "cell_type": "code",
   "execution_count": 60,
   "metadata": {
    "id": "KX9HC6y7s3jS"
   },
   "outputs": [],
   "source": [
    "# function for comparing two runtime durations and printing out the results of output\n",
    "def compare_time(current_temp_table_run_duration, current_label, to_compare_with_label, to_compare_with_duration):\n",
    "    run_difference=abs(to_compare_with_duration-current_temp_table_run_duration)\n",
    "    if to_compare_with_duration>current_temp_table_run_duration:\n",
    "    perc=100*run_difference/to_compare_with_duration\n",
    "    winner=current_label\n",
    "    else:\n",
    "    perc=100*run_difference/current_temp_table_run_duration\n",
    "    winner=to_compare_with_label\n",
    "\n",
    "    print(\"--- %s seconds ---\" % (current_temp_table_run_duration))\n",
    "    print(f'Running query for {winner} data showed better time with the difference {round(run_difference,2)} second(s), which is {round(perc,2)}% less.')\n"
   ]
  },
  {
   "cell_type": "code",
   "execution_count": 61,
   "metadata": {
    "colab": {
     "base_uri": "https://localhost:8080/"
    },
    "id": "-5OE7goofC98",
    "outputId": "e92d5737-3e36-48d4-8e0c-91770f486d92"
   },
   "outputs": [
    {
     "name": "stdout",
     "output_type": "stream",
     "text": [
      "+----+-------------+\n",
      "|view|Average_Price|\n",
      "+----+-------------+\n",
      "|  99|   1061201.42|\n",
      "|  98|   1053739.33|\n",
      "|  97|   1129040.15|\n",
      "|  96|   1017815.92|\n",
      "|  95|    1054325.6|\n",
      "|  94|    1033536.2|\n",
      "|  93|   1026006.06|\n",
      "|  92|    970402.55|\n",
      "|  91|   1137372.73|\n",
      "|  90|   1062654.16|\n",
      "|  89|   1107839.15|\n",
      "|  88|   1031719.35|\n",
      "|  87|    1072285.2|\n",
      "|  86|   1070444.25|\n",
      "|  85|   1056336.74|\n",
      "|  84|   1117233.13|\n",
      "|  83|   1033965.93|\n",
      "|  82|    1063498.0|\n",
      "|  81|   1053472.79|\n",
      "|  80|    991767.38|\n",
      "+----+-------------+\n",
      "only showing top 20 rows\n",
      "\n",
      "--- 0.6097216606140137 seconds ---\n",
      "Running query for Cached data showed better time with the difference 0.11 second(s), which is 14.99% less.\n"
     ]
    }
   ],
   "source": [
    "# 9. Using the cached data, run the query that filters out the view ratings with average price\n",
    "#  greater than or equal to $350,000. Determine the runtime and compare it to uncached runtime.\n",
    "\n",
    "query=\"\"\"Select view, Round(AVG(price),2) as Average_Price\n",
    "from sales\n",
    "Group by view\n",
    "having AVG(price)>=350000\n",
    "order by view desc \"\"\"\n",
    "\n",
    "start_time = time.time()\n",
    "spark.sql(query).show()\n",
    "end_time=time.time()\n",
    "cached_temp_table_run_duration=end_time-start_time\n",
    "compare_time(cached_temp_table_run_duration, 'Cached', 'Unchached', reg_temp_table_run_duration)"
   ]
  },
  {
   "cell_type": "code",
   "execution_count": 62,
   "metadata": {
    "id": "Qm12WN9isHBR"
   },
   "outputs": [],
   "source": [
    "# 10. Partition by the \"date_built\" field on the formatted parquet home sales data\n",
    "home_sales_df.write.partitionBy(\"date_built\").mode(\"overwrite\").parquet(\"home_sales_partitioned\")"
   ]
  },
  {
   "cell_type": "code",
   "execution_count": 63,
   "metadata": {
    "id": "AZ7BgY61sRqY"
   },
   "outputs": [],
   "source": [
    "# 11. Read the parquet formatted data.\n",
    "home_sales_df_p=spark.read.parquet('home_sales_partitioned')"
   ]
  },
  {
   "cell_type": "code",
   "execution_count": 64,
   "metadata": {
    "id": "J6MJkHfvVcvh"
   },
   "outputs": [],
   "source": [
    "# 12. Create a temporary table for the parquet data.\n",
    "home_sales_df_p.createOrReplaceTempView('sales_p')"
   ]
  },
  {
   "cell_type": "code",
   "execution_count": 65,
   "metadata": {
    "colab": {
     "base_uri": "https://localhost:8080/"
    },
    "id": "G_Vhb52rU1Sn",
    "outputId": "c7fef4d8-b572-448a-a34e-a3c2548f094e"
   },
   "outputs": [
    {
     "name": "stdout",
     "output_type": "stream",
     "text": [
      "+----+-------------+\n",
      "|view|Average_Price|\n",
      "+----+-------------+\n",
      "|  99|   1061201.42|\n",
      "|  98|   1053739.33|\n",
      "|  97|   1129040.15|\n",
      "|  96|   1017815.92|\n",
      "|  95|    1054325.6|\n",
      "|  94|    1033536.2|\n",
      "|  93|   1026006.06|\n",
      "|  92|    970402.55|\n",
      "|  91|   1137372.73|\n",
      "|  90|   1062654.16|\n",
      "|  89|   1107839.15|\n",
      "|  88|   1031719.35|\n",
      "|  87|    1072285.2|\n",
      "|  86|   1070444.25|\n",
      "|  85|   1056336.74|\n",
      "|  84|   1117233.13|\n",
      "|  83|   1033965.93|\n",
      "|  82|    1063498.0|\n",
      "|  81|   1053472.79|\n",
      "|  80|    991767.38|\n",
      "+----+-------------+\n",
      "only showing top 20 rows\n",
      "\n",
      "--- 0.9075253009796143 seconds ---\n",
      "Running query for Cached data showed better time with the difference 0.19 second(s), which is 20.97% less.\n"
     ]
    }
   ],
   "source": [
    "# 13. Run the query that filters out the view ratings with average price of greater than or equal to $350,000\n",
    "# with the parquet DataFrame. Round your average to two decimal places.\n",
    "# Determine the runtime and compare it to the cached version.\n",
    "\n",
    "query=\"\"\"Select view, Round(AVG(price),2) as Average_Price\n",
    "from sales_p\n",
    "Group by view\n",
    "having AVG(price)>=350000\n",
    "order by view desc \"\"\"\n",
    "\n",
    "start_time = time.time()\n",
    "spark.sql(query).show()\n",
    "end_time=time.time()\n",
    "parquet_temp_table_run_duration=end_time-start_time\n",
    "compare_time(parquet_temp_table_run_duration, 'Parqueted', 'Cached', reg_temp_table_run_duration)"
   ]
  },
  {
   "cell_type": "code",
   "execution_count": 66,
   "metadata": {
    "colab": {
     "base_uri": "https://localhost:8080/"
    },
    "id": "hjjYzQGjtbq8",
    "outputId": "ca20d08d-a5a1-4e06-ce6d-b10ba239eee9"
   },
   "outputs": [
    {
     "data": {
      "text/plain": [
       "DataFrame[]"
      ]
     },
     "execution_count": 66,
     "metadata": {},
     "output_type": "execute_result"
    }
   ],
   "source": [
    "# 14. Uncache the home_sales temporary table.\n",
    "spark.sql(\"uncache table sales\")"
   ]
  },
  {
   "cell_type": "code",
   "execution_count": 67,
   "metadata": {
    "colab": {
     "base_uri": "https://localhost:8080/"
    },
    "id": "Sy9NBvO7tlmm",
    "outputId": "ae9edd1d-7681-4301-f59d-b356e4c04f84"
   },
   "outputs": [
    {
     "data": {
      "text/plain": [
       "False"
      ]
     },
     "execution_count": 67,
     "metadata": {},
     "output_type": "execute_result"
    }
   ],
   "source": [
    "# 15. Check if the home_sales is no longer cached\n",
    "\n",
    "spark.catalog.isCached('sales')"
   ]
  },
  {
   "cell_type": "code",
   "execution_count": null,
   "metadata": {
    "id": "Si-BNruRUGK3"
   },
   "outputs": [],
   "source": []
  }
 ],
 "metadata": {
  "colab": {
   "provenance": []
  },
  "gpuClass": "standard",
  "kernelspec": {
   "display_name": "Python 3 (ipykernel)",
   "language": "python",
   "name": "python3"
  },
  "language_info": {
   "codemirror_mode": {
    "name": "ipython",
    "version": 3
   },
   "file_extension": ".py",
   "mimetype": "text/x-python",
   "name": "python",
   "nbconvert_exporter": "python",
   "pygments_lexer": "ipython3",
   "version": "3.11.5"
  },
  "nteract": {
   "version": "0.28.0"
  }
 },
 "nbformat": 4,
 "nbformat_minor": 1
}
